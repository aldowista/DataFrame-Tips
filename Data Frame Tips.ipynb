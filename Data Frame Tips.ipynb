{
 "cells": [
  {
   "cell_type": "code",
   "execution_count": 1,
   "metadata": {},
   "outputs": [],
   "source": [
    "import pandas as pd"
   ]
  },
  {
   "cell_type": "code",
   "execution_count": 2,
   "metadata": {},
   "outputs": [],
   "source": [
    "import seaborn as sns"
   ]
  },
  {
   "cell_type": "code",
   "execution_count": 5,
   "metadata": {},
   "outputs": [],
   "source": [
    "df = sns.load_dataset('tips')"
   ]
  },
  {
   "cell_type": "code",
   "execution_count": 6,
   "metadata": {},
   "outputs": [
    {
     "data": {
      "text/html": [
       "<div>\n",
       "<style scoped>\n",
       "    .dataframe tbody tr th:only-of-type {\n",
       "        vertical-align: middle;\n",
       "    }\n",
       "\n",
       "    .dataframe tbody tr th {\n",
       "        vertical-align: top;\n",
       "    }\n",
       "\n",
       "    .dataframe thead th {\n",
       "        text-align: right;\n",
       "    }\n",
       "</style>\n",
       "<table border=\"1\" class=\"dataframe\">\n",
       "  <thead>\n",
       "    <tr style=\"text-align: right;\">\n",
       "      <th></th>\n",
       "      <th>total_bill</th>\n",
       "      <th>tip</th>\n",
       "      <th>sex</th>\n",
       "      <th>smoker</th>\n",
       "      <th>day</th>\n",
       "      <th>time</th>\n",
       "      <th>size</th>\n",
       "    </tr>\n",
       "  </thead>\n",
       "  <tbody>\n",
       "    <tr>\n",
       "      <th>0</th>\n",
       "      <td>16.99</td>\n",
       "      <td>1.01</td>\n",
       "      <td>Female</td>\n",
       "      <td>No</td>\n",
       "      <td>Sun</td>\n",
       "      <td>Dinner</td>\n",
       "      <td>2</td>\n",
       "    </tr>\n",
       "    <tr>\n",
       "      <th>1</th>\n",
       "      <td>10.34</td>\n",
       "      <td>1.66</td>\n",
       "      <td>Male</td>\n",
       "      <td>No</td>\n",
       "      <td>Sun</td>\n",
       "      <td>Dinner</td>\n",
       "      <td>3</td>\n",
       "    </tr>\n",
       "    <tr>\n",
       "      <th>2</th>\n",
       "      <td>21.01</td>\n",
       "      <td>3.50</td>\n",
       "      <td>Male</td>\n",
       "      <td>No</td>\n",
       "      <td>Sun</td>\n",
       "      <td>Dinner</td>\n",
       "      <td>3</td>\n",
       "    </tr>\n",
       "    <tr>\n",
       "      <th>3</th>\n",
       "      <td>23.68</td>\n",
       "      <td>3.31</td>\n",
       "      <td>Male</td>\n",
       "      <td>No</td>\n",
       "      <td>Sun</td>\n",
       "      <td>Dinner</td>\n",
       "      <td>2</td>\n",
       "    </tr>\n",
       "    <tr>\n",
       "      <th>4</th>\n",
       "      <td>24.59</td>\n",
       "      <td>3.61</td>\n",
       "      <td>Female</td>\n",
       "      <td>No</td>\n",
       "      <td>Sun</td>\n",
       "      <td>Dinner</td>\n",
       "      <td>4</td>\n",
       "    </tr>\n",
       "    <tr>\n",
       "      <th>...</th>\n",
       "      <td>...</td>\n",
       "      <td>...</td>\n",
       "      <td>...</td>\n",
       "      <td>...</td>\n",
       "      <td>...</td>\n",
       "      <td>...</td>\n",
       "      <td>...</td>\n",
       "    </tr>\n",
       "    <tr>\n",
       "      <th>239</th>\n",
       "      <td>29.03</td>\n",
       "      <td>5.92</td>\n",
       "      <td>Male</td>\n",
       "      <td>No</td>\n",
       "      <td>Sat</td>\n",
       "      <td>Dinner</td>\n",
       "      <td>3</td>\n",
       "    </tr>\n",
       "    <tr>\n",
       "      <th>240</th>\n",
       "      <td>27.18</td>\n",
       "      <td>2.00</td>\n",
       "      <td>Female</td>\n",
       "      <td>Yes</td>\n",
       "      <td>Sat</td>\n",
       "      <td>Dinner</td>\n",
       "      <td>2</td>\n",
       "    </tr>\n",
       "    <tr>\n",
       "      <th>241</th>\n",
       "      <td>22.67</td>\n",
       "      <td>2.00</td>\n",
       "      <td>Male</td>\n",
       "      <td>Yes</td>\n",
       "      <td>Sat</td>\n",
       "      <td>Dinner</td>\n",
       "      <td>2</td>\n",
       "    </tr>\n",
       "    <tr>\n",
       "      <th>242</th>\n",
       "      <td>17.82</td>\n",
       "      <td>1.75</td>\n",
       "      <td>Male</td>\n",
       "      <td>No</td>\n",
       "      <td>Sat</td>\n",
       "      <td>Dinner</td>\n",
       "      <td>2</td>\n",
       "    </tr>\n",
       "    <tr>\n",
       "      <th>243</th>\n",
       "      <td>18.78</td>\n",
       "      <td>3.00</td>\n",
       "      <td>Female</td>\n",
       "      <td>No</td>\n",
       "      <td>Thur</td>\n",
       "      <td>Dinner</td>\n",
       "      <td>2</td>\n",
       "    </tr>\n",
       "  </tbody>\n",
       "</table>\n",
       "<p>244 rows × 7 columns</p>\n",
       "</div>"
      ],
      "text/plain": [
       "     total_bill   tip     sex smoker   day    time  size\n",
       "0         16.99  1.01  Female     No   Sun  Dinner     2\n",
       "1         10.34  1.66    Male     No   Sun  Dinner     3\n",
       "2         21.01  3.50    Male     No   Sun  Dinner     3\n",
       "3         23.68  3.31    Male     No   Sun  Dinner     2\n",
       "4         24.59  3.61  Female     No   Sun  Dinner     4\n",
       "..          ...   ...     ...    ...   ...     ...   ...\n",
       "239       29.03  5.92    Male     No   Sat  Dinner     3\n",
       "240       27.18  2.00  Female    Yes   Sat  Dinner     2\n",
       "241       22.67  2.00    Male    Yes   Sat  Dinner     2\n",
       "242       17.82  1.75    Male     No   Sat  Dinner     2\n",
       "243       18.78  3.00  Female     No  Thur  Dinner     2\n",
       "\n",
       "[244 rows x 7 columns]"
      ]
     },
     "execution_count": 6,
     "metadata": {},
     "output_type": "execute_result"
    }
   ],
   "source": [
    "df"
   ]
  },
  {
   "cell_type": "code",
   "execution_count": 7,
   "metadata": {},
   "outputs": [
    {
     "name": "stdout",
     "output_type": "stream",
     "text": [
      "<class 'pandas.core.frame.DataFrame'>\n",
      "RangeIndex: 244 entries, 0 to 243\n",
      "Data columns (total 7 columns):\n",
      " #   Column      Non-Null Count  Dtype   \n",
      "---  ------      --------------  -----   \n",
      " 0   total_bill  244 non-null    float64 \n",
      " 1   tip         244 non-null    float64 \n",
      " 2   sex         244 non-null    category\n",
      " 3   smoker      244 non-null    category\n",
      " 4   day         244 non-null    category\n",
      " 5   time        244 non-null    category\n",
      " 6   size        244 non-null    int64   \n",
      "dtypes: category(4), float64(2), int64(1)\n",
      "memory usage: 7.3 KB\n"
     ]
    }
   ],
   "source": [
    "df.info()"
   ]
  },
  {
   "cell_type": "code",
   "execution_count": 8,
   "metadata": {},
   "outputs": [
    {
     "data": {
      "text/html": [
       "<div>\n",
       "<style scoped>\n",
       "    .dataframe tbody tr th:only-of-type {\n",
       "        vertical-align: middle;\n",
       "    }\n",
       "\n",
       "    .dataframe tbody tr th {\n",
       "        vertical-align: top;\n",
       "    }\n",
       "\n",
       "    .dataframe thead th {\n",
       "        text-align: right;\n",
       "    }\n",
       "</style>\n",
       "<table border=\"1\" class=\"dataframe\">\n",
       "  <thead>\n",
       "    <tr style=\"text-align: right;\">\n",
       "      <th></th>\n",
       "      <th>total_bill</th>\n",
       "      <th>tip</th>\n",
       "      <th>size</th>\n",
       "    </tr>\n",
       "  </thead>\n",
       "  <tbody>\n",
       "    <tr>\n",
       "      <th>count</th>\n",
       "      <td>244.000000</td>\n",
       "      <td>244.000000</td>\n",
       "      <td>244.000000</td>\n",
       "    </tr>\n",
       "    <tr>\n",
       "      <th>mean</th>\n",
       "      <td>19.785943</td>\n",
       "      <td>2.998279</td>\n",
       "      <td>2.569672</td>\n",
       "    </tr>\n",
       "    <tr>\n",
       "      <th>std</th>\n",
       "      <td>8.902412</td>\n",
       "      <td>1.383638</td>\n",
       "      <td>0.951100</td>\n",
       "    </tr>\n",
       "    <tr>\n",
       "      <th>min</th>\n",
       "      <td>3.070000</td>\n",
       "      <td>1.000000</td>\n",
       "      <td>1.000000</td>\n",
       "    </tr>\n",
       "    <tr>\n",
       "      <th>25%</th>\n",
       "      <td>13.347500</td>\n",
       "      <td>2.000000</td>\n",
       "      <td>2.000000</td>\n",
       "    </tr>\n",
       "    <tr>\n",
       "      <th>50%</th>\n",
       "      <td>17.795000</td>\n",
       "      <td>2.900000</td>\n",
       "      <td>2.000000</td>\n",
       "    </tr>\n",
       "    <tr>\n",
       "      <th>75%</th>\n",
       "      <td>24.127500</td>\n",
       "      <td>3.562500</td>\n",
       "      <td>3.000000</td>\n",
       "    </tr>\n",
       "    <tr>\n",
       "      <th>max</th>\n",
       "      <td>50.810000</td>\n",
       "      <td>10.000000</td>\n",
       "      <td>6.000000</td>\n",
       "    </tr>\n",
       "  </tbody>\n",
       "</table>\n",
       "</div>"
      ],
      "text/plain": [
       "       total_bill         tip        size\n",
       "count  244.000000  244.000000  244.000000\n",
       "mean    19.785943    2.998279    2.569672\n",
       "std      8.902412    1.383638    0.951100\n",
       "min      3.070000    1.000000    1.000000\n",
       "25%     13.347500    2.000000    2.000000\n",
       "50%     17.795000    2.900000    2.000000\n",
       "75%     24.127500    3.562500    3.000000\n",
       "max     50.810000   10.000000    6.000000"
      ]
     },
     "execution_count": 8,
     "metadata": {},
     "output_type": "execute_result"
    }
   ],
   "source": [
    "df.describe()"
   ]
  },
  {
   "cell_type": "code",
   "execution_count": 9,
   "metadata": {},
   "outputs": [
    {
     "data": {
      "text/plain": [
       "[Dinner, Lunch]\n",
       "Categories (2, object): [Dinner, Lunch]"
      ]
     },
     "execution_count": 9,
     "metadata": {},
     "output_type": "execute_result"
    }
   ],
   "source": [
    "df['time'].unique()"
   ]
  },
  {
   "cell_type": "markdown",
   "metadata": {},
   "source": [
    "### Jumlah pelanggan pada waktu makan siang"
   ]
  },
  {
   "cell_type": "code",
   "execution_count": 28,
   "metadata": {},
   "outputs": [
    {
     "name": "stdout",
     "output_type": "stream",
     "text": [
      "Jumlah pelanggan pada waktu siang hari 68 orang\n"
     ]
    }
   ],
   "source": [
    "jmlPelangganSiang = len(df[df['time']=='Lunch'])\n",
    "print(f'Jumlah pelanggan pada waktu siang hari {jmlPelangganSiang} orang')"
   ]
  },
  {
   "cell_type": "markdown",
   "metadata": {},
   "source": [
    "### Jumlah pelanggan pada waktu makan malam"
   ]
  },
  {
   "cell_type": "code",
   "execution_count": 29,
   "metadata": {},
   "outputs": [
    {
     "name": "stdout",
     "output_type": "stream",
     "text": [
      "Jumlah pelanggan pada waktu siang hari 176 orang\n"
     ]
    }
   ],
   "source": [
    "jmlPelangganMalam = len(df[df['time']=='Dinner'])\n",
    "print(f'Jumlah pelanggan pada waktu siang hari {jmlPelangganMalam} orang')"
   ]
  },
  {
   "cell_type": "markdown",
   "metadata": {},
   "source": [
    "### Rata-rata jumlah pelanggan satu meja dalam sekali datang"
   ]
  },
  {
   "cell_type": "code",
   "execution_count": 68,
   "metadata": {},
   "outputs": [
    {
     "name": "stdout",
     "output_type": "stream",
     "text": [
      "Rata-rata jumlah pelanggan satu meja 2.57 orang\n",
      "\n",
      "Jumlah pelanggan paling banyak permeja sekali datang 6 orang\n",
      "\n",
      "Jumlah pelanggan paling sedikit permeja sekali datang 1 orang\n"
     ]
    }
   ],
   "source": [
    "## Rata-rata jumlah pelanggan satu meja sekali datang\n",
    "rtJumlahPerMeja = round(df['size'].mean(),2)\n",
    "print(f'Rata-rata jumlah pelanggan satu meja {rtJumlahPerMeja} orang\\n')\n",
    "\n",
    "## Jumlah pelanggan paling banyak permeja sekali datang\n",
    "rtelangganMax = df['size'].max()\n",
    "print(f'Jumlah pelanggan paling banyak permeja sekali datang {rtelangganMax} orang\\n')\n",
    "\n",
    "## Jumlah pelanggan paling sedikit permeja sekali datang\n",
    "rtelangganMin = df['size'].min()\n",
    "print(f'Jumlah pelanggan paling sedikit permeja sekali datang {rtelangganMin} orang')"
   ]
  },
  {
   "cell_type": "markdown",
   "metadata": {},
   "source": [
    "### Jumlah pelanggan wanita"
   ]
  },
  {
   "cell_type": "code",
   "execution_count": 35,
   "metadata": {},
   "outputs": [
    {
     "name": "stdout",
     "output_type": "stream",
     "text": [
      "Jumlah pelanggan wanita 87 orang\n",
      "\n",
      "Jumlah pelanggan wanita pada waktu siang hari 35 orang\n",
      "\n",
      "Jumlah pelanggan wanita pada waktu malam hari 52 orang\n"
     ]
    }
   ],
   "source": [
    "## Jumlah pelanggan wanita\n",
    "jmlPelangganW = len(df[df['sex']=='Female'])\n",
    "print(f'Jumlah pelanggan wanita {jmlPelangganW} orang\\n')\n",
    "\n",
    "## Jumlah pelanggan wanita pada siang hari\n",
    "jmlPelangganWSiang = len(df[(df['sex'] == 'Female') & (df['time']=='Lunch')])\n",
    "print(f'Jumlah pelanggan wanita pada waktu siang hari {jmlPelangganWSiang} orang\\n')\n",
    "\n",
    "## Jumlah pelanggan wanita pada malam hari\n",
    "jmlPelangganWMalam = len(df[(df['sex'] == 'Female') & (df['time']=='Dinner')])\n",
    "print(f'Jumlah pelanggan wanita pada waktu malam hari {jmlPelangganWMalam} orang')\n"
   ]
  },
  {
   "cell_type": "markdown",
   "metadata": {},
   "source": [
    "### Jumlah pelanggan pria"
   ]
  },
  {
   "cell_type": "code",
   "execution_count": 39,
   "metadata": {},
   "outputs": [
    {
     "name": "stdout",
     "output_type": "stream",
     "text": [
      "Jumlah pelanggan pria 157 orang\n",
      "\n",
      "Jumlah pelanggan pria pada waktu siang hari 33 orang\n",
      "\n",
      "Jumlah pelanggan pria pada waktu malam hari 124 orang\n"
     ]
    }
   ],
   "source": [
    "## Jumlah pelanggan pria\n",
    "jmlPelangganP = len(df[df['sex']=='Male'])\n",
    "print(f'Jumlah pelanggan pria {jmlPelangganP} orang\\n')\n",
    "\n",
    "## Jumlah pelanggan wanita pada siang hari\n",
    "jmlPelangganLSiang = len(df[(df['sex'] == 'Male') & (df['time']=='Lunch')])\n",
    "print(f'Jumlah pelanggan pria pada waktu siang hari {jmlPelangganLSiang} orang\\n')\n",
    "\n",
    "## Jumlah pelanggan wanita pada malam hari\n",
    "jmlPelangganLMalam = len(df[(df['sex'] == 'Male') & (df['time']=='Dinner')])\n",
    "print(f'Jumlah pelanggan pria pada waktu malam hari {jmlPelangganLMalam} orang')"
   ]
  },
  {
   "cell_type": "markdown",
   "metadata": {},
   "source": [
    "### Jumlah pelanggan yang merokok"
   ]
  },
  {
   "cell_type": "code",
   "execution_count": 47,
   "metadata": {},
   "outputs": [
    {
     "name": "stdout",
     "output_type": "stream",
     "text": [
      "Jumlah pelanggan perokok 93 orang\n",
      "\n",
      "Jumlah pelanggan perokok 151 orang\n"
     ]
    }
   ],
   "source": [
    "## Jumlah pelanggan perokok\n",
    "jmlPerokok = len(df[df['smoker']=='Yes'])\n",
    "print(f'Jumlah pelanggan perokok {jmlPerokok} orang\\n')\n",
    "\n",
    "## Jumlah pelanggan tidak merokok\n",
    "jmlTdkPerokok = len(df[df['smoker']=='No'])\n",
    "print(f'Jumlah pelanggan perokok {jmlTdkPerokok} orang')"
   ]
  },
  {
   "cell_type": "code",
   "execution_count": 48,
   "metadata": {},
   "outputs": [
    {
     "data": {
      "text/plain": [
       "[Sun, Sat, Thur, Fri]\n",
       "Categories (4, object): [Sun, Sat, Thur, Fri]"
      ]
     },
     "execution_count": 48,
     "metadata": {},
     "output_type": "execute_result"
    }
   ],
   "source": [
    "df['day'].unique()"
   ]
  },
  {
   "cell_type": "markdown",
   "metadata": {},
   "source": [
    "### Jumlah pelanggan berdasarkan hari"
   ]
  },
  {
   "cell_type": "code",
   "execution_count": 57,
   "metadata": {},
   "outputs": [
    {
     "name": "stdout",
     "output_type": "stream",
     "text": [
      "Jumlah pelanggan pada hari minggu 76 orang\n",
      "\n",
      "Jumlah pelanggan pada hari minggu 0 orang\n",
      "\n",
      "Jumlah pelanggan pada hari minggu 0 orang\n",
      "\n",
      "Jumlah pelanggan pada hari minggu 0 orang\n",
      "\n",
      "Jumlah pelanggan pada hari minggu 62 orang\n",
      "\n",
      "Jumlah pelanggan pada hari minggu 19 orang\n",
      "\n",
      "Jumlah pelanggan pada hari minggu 87 orang\n",
      "\n"
     ]
    }
   ],
   "source": [
    "## Jumlah pelanggan pada hari minggu\n",
    "jmlPMinggu = len(df[df['day']=='Sun'])\n",
    "print(f'Jumlah pelanggan pada hari minggu {jmlPMinggu} orang\\n') \n",
    "\n",
    "## Jumlah pelanggan pada hari senin\n",
    "jmlPSenin= len(df[df['day']=='Mon'])\n",
    "print(f'Jumlah pelanggan pada hari minggu {jmlPSenin} orang\\n')\n",
    "\n",
    "## Jumlah pelanggan pada hari selasa\n",
    "jmlPSelasa = len(df[df['day']=='Tue'])\n",
    "print(f'Jumlah pelanggan pada hari minggu {jmlPSelasa} orang\\n')\n",
    "\n",
    "## Jumlah pelanggan pada hari rabu\n",
    "jmlPRabu = len(df[df['day']=='Wed'])\n",
    "print(f'Jumlah pelanggan pada hari minggu {jmlPRabu} orang\\n')\n",
    "\n",
    "## Jumlah pelanggan pada hari kamis\n",
    "jmlPKamis = len(df[df['day']=='Thur'])\n",
    "print(f'Jumlah pelanggan pada hari minggu {jmlPKamis} orang\\n')\n",
    "\n",
    "## Jumlah pelanggan pada hari jumat\n",
    "jmlPJumat = len(df[df['day']=='Fri'])\n",
    "print(f'Jumlah pelanggan pada hari minggu {jmlPJumat} orang\\n')\n",
    "\n",
    "## Jumlah pelanggan pada hari sabtu\n",
    "jmlPSabtu = len(df[df['day']=='Sat'])\n",
    "print(f'Jumlah pelanggan pada hari minggu {jmlPSabtu} orang\\n')"
   ]
  },
  {
   "cell_type": "markdown",
   "metadata": {},
   "source": [
    "### Jumlah rata-rata tip"
   ]
  },
  {
   "cell_type": "code",
   "execution_count": 72,
   "metadata": {},
   "outputs": [
    {
     "name": "stdout",
     "output_type": "stream",
     "text": [
      "Rata-rata tip yang diberikan 3.0 Dollar\n",
      "\n",
      "Tip max yang diberikan 10.0 Dollar\n"
     ]
    }
   ],
   "source": [
    "## Rata-rata tip\n",
    "rtTip = round(df['tip'].describe()['mean'],2)\n",
    "print(f'Rata-rata tip yang diberikan {rtTip} Dollar\\n')\n",
    "\n",
    "## Tip paling mahal\n",
    "tipMaks = df['tip'].max()\n",
    "print(f'Tip max yang diberikan {tipMaks} Dollar')"
   ]
  },
  {
   "cell_type": "markdown",
   "metadata": {},
   "source": [
    "### Rata-rata bill yang dibayarkan"
   ]
  },
  {
   "cell_type": "code",
   "execution_count": 77,
   "metadata": {},
   "outputs": [
    {
     "name": "stdout",
     "output_type": "stream",
     "text": [
      "Bill rata-rata 19.79 Dollar\n",
      "\n",
      "Bill max 50.81 Dollar\n",
      "\n",
      "Bill min 3.07 Dollar\n"
     ]
    }
   ],
   "source": [
    "## Rata-rata bill yang dibayarkan\n",
    "rtBill = round(df['total_bill'].agg('mean'),2)\n",
    "print(f'Bill rata-rata {rtBill} Dollar\\n')\n",
    "\n",
    "## Maks bill yang dibayarkan\n",
    "billMaks = round(df['total_bill'].agg('max'),2)\n",
    "print(f'Bill max {billMaks} Dollar\\n')\n",
    "\n",
    "## Min bill yang dibayarkan\n",
    "billMin = round(df['total_bill'].agg('min'),2)\n",
    "print(f'Bill min {billMin} Dollar')"
   ]
  },
  {
   "cell_type": "code",
   "execution_count": null,
   "metadata": {},
   "outputs": [],
   "source": []
  }
 ],
 "metadata": {
  "kernelspec": {
   "display_name": "Python 3",
   "language": "python",
   "name": "python3"
  },
  "language_info": {
   "codemirror_mode": {
    "name": "ipython",
    "version": 3
   },
   "file_extension": ".py",
   "mimetype": "text/x-python",
   "name": "python",
   "nbconvert_exporter": "python",
   "pygments_lexer": "ipython3",
   "version": "3.8.3"
  }
 },
 "nbformat": 4,
 "nbformat_minor": 4
}
